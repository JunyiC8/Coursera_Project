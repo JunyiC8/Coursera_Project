{
 "cells": [
  {
   "cell_type": "markdown",
   "id": "ec487894-95be-48be-a10d-3dfca951bd75",
   "metadata": {},
   "source": [
    "# Data Science Tools and Ecosystem"
   ]
  },
  {
   "cell_type": "markdown",
   "id": "66a5cc1d-9c95-44ae-93f2-418ac8c03512",
   "metadata": {},
   "source": [
    "In this notebook, Data Science Tools and Ecosystem are summarized."
   ]
  },
  {
   "cell_type": "markdown",
   "id": "e3bbab80-362f-48ab-8db6-980ce0975d2c",
   "metadata": {
    "jp-MarkdownHeadingCollapsed": true,
    "tags": []
   },
   "source": [
    "**Objectives:**\n",
    "\n",
    "List popular languages for Data Science:\n",
    "* SQL\n",
    "* R\n",
    "* Python\n",
    "* Git"
   ]
  },
  {
   "cell_type": "markdown",
   "id": "e460292c-2044-4c43-9390-8354cc04cd83",
   "metadata": {},
   "source": [
    "Some of the popular languages that Data Scientists use are:\n",
    "1. SQL\n",
    "2. R\n",
    "3. Python\n",
    "4. Git"
   ]
  },
  {
   "cell_type": "markdown",
   "id": "1f3f2fb0-c43d-4510-9ef8-6a22c12b3220",
   "metadata": {},
   "source": [
    "Some of the commonly used libraries used by Data Scientists include:\n",
    "1. Pandas\n",
    "2. NumPy\n",
    "3. SciPy\n",
    "4. Matplotlib"
   ]
  },
  {
   "cell_type": "markdown",
   "id": "d0ede4d1-5e01-4c44-ad2c-3820d4d05f7d",
   "metadata": {
    "tags": []
   },
   "source": [
    "|Data Science Tools|\n",
    "|----|\n",
    "|Jupyter Notebook|\n",
    "|Rstudio|\n",
    "|Github|"
   ]
  },
  {
   "cell_type": "markdown",
   "id": "0a93f5f3-e051-41d1-aa06-98490fba3923",
   "metadata": {
    "tags": []
   },
   "source": [
    "### Below are a few examples of evaluating arithmetic expressions in Python"
   ]
  },
  {
   "cell_type": "code",
   "execution_count": 3,
   "id": "9c93861b-9141-4e91-925d-9b8cecd902a6",
   "metadata": {
    "tags": []
   },
   "outputs": [
    {
     "data": {
      "text/plain": [
       "17"
      ]
     },
     "execution_count": 3,
     "metadata": {},
     "output_type": "execute_result"
    }
   ],
   "source": [
    "# This a simple arithmetic expression to mutiply then add integers\n",
    "(3*4)+5"
   ]
  },
  {
   "cell_type": "code",
   "execution_count": 7,
   "id": "85fd1346-d71e-4064-842e-b8308895980e",
   "metadata": {
    "tags": []
   },
   "outputs": [
    {
     "name": "stdout",
     "output_type": "stream",
     "text": [
      "200 minutes is 3.3333333333333335 hours.\n"
     ]
    }
   ],
   "source": [
    "#  This will convert 200 minutes to hours by diving by 60\n",
    "print(f\"200 minutes is {200/60} hours.\") "
   ]
  },
  {
   "cell_type": "markdown",
   "id": "832cd127-b2c9-47ed-b6b1-e7bb496c3d5f",
   "metadata": {},
   "source": [
    "## Author\n",
    "\n",
    "Julia Chen"
   ]
  }
 ],
 "metadata": {
  "kernelspec": {
   "display_name": "Python",
   "language": "python",
   "name": "conda-env-python-py"
  },
  "language_info": {
   "codemirror_mode": {
    "name": "ipython",
    "version": 3
   },
   "file_extension": ".py",
   "mimetype": "text/x-python",
   "name": "python",
   "nbconvert_exporter": "python",
   "pygments_lexer": "ipython3",
   "version": "3.7.12"
  }
 },
 "nbformat": 4,
 "nbformat_minor": 5
}
